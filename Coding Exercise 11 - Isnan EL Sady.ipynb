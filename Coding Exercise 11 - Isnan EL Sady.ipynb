{
 "cells": [
  {
   "cell_type": "code",
   "execution_count": 1,
   "id": "4a039445",
   "metadata": {},
   "outputs": [
    {
     "name": "stdout",
     "output_type": "stream",
     "text": [
      "Requirement already satisfied: pandasql in d:\\anaconda\\lib\\site-packages (0.7.3)\n",
      "Requirement already satisfied: sqlalchemy in d:\\anaconda\\lib\\site-packages (from pandasql) (1.4.7)\n",
      "Requirement already satisfied: numpy in d:\\anaconda\\lib\\site-packages (from pandasql) (1.20.1)\n",
      "Requirement already satisfied: pandas in d:\\anaconda\\lib\\site-packages (from pandasql) (1.2.4)\n",
      "Requirement already satisfied: pytz>=2017.3 in d:\\anaconda\\lib\\site-packages (from pandas->pandasql) (2021.1)\n",
      "Requirement already satisfied: python-dateutil>=2.7.3 in d:\\anaconda\\lib\\site-packages (from pandas->pandasql) (2.8.1)\n",
      "Requirement already satisfied: six>=1.5 in d:\\anaconda\\lib\\site-packages (from python-dateutil>=2.7.3->pandas->pandasql) (1.15.0)\n",
      "Requirement already satisfied: greenlet!=0.4.17 in d:\\anaconda\\lib\\site-packages (from sqlalchemy->pandasql) (1.0.0)\n"
     ]
    }
   ],
   "source": [
    "### RUN THIS CELL FIRST ###\n",
    "!pip install pandasql"
   ]
  },
  {
   "cell_type": "code",
   "execution_count": 2,
   "id": "d82e018d",
   "metadata": {},
   "outputs": [],
   "source": [
    "import pandas as pd\n",
    "import pandasql\n",
    "\n",
    "from pandasql import sqldf \n",
    "sql_run = lambda q: sqldf(q, globals())"
   ]
  },
  {
   "cell_type": "code",
   "execution_count": 3,
   "id": "41c415dc",
   "metadata": {},
   "outputs": [],
   "source": [
    "worldcity = pd.read_csv('worldcities.csv', sep = ';', encoding = 'latin-1')\n",
    "uscity = pd.read_csv('uscities.csv', sep = ';', encoding = 'latin-1')\n",
    "uscity.columns = ['city', 'state_id', 'state_name', 'county_fips', 'county_name',\n",
    "       'lat', 'lng', 'population', 'density', 'source', 'military',\n",
    "       'incorporated', 'timezone', 'ranking', 'zips', 'id']\n",
    "pd.set_option('display.max_columns', None)"
   ]
  },
  {
   "cell_type": "markdown",
   "id": "0e1ca557",
   "metadata": {},
   "source": [
    "### Question 1"
   ]
  },
  {
   "cell_type": "markdown",
   "id": "7e23055e",
   "metadata": {},
   "source": [
    "Temukan kota-kota dari worldcity yang memenuhi semua kondisi ini:\n",
    "- populasi kota tersebut melebih populasi dari kota terbanyak penduduknya di negara Filipina. (Maksudnya: misalnya kota X adalah kota di Filipina yang paling banyak penduduknya. Kita mau daftar kota-kota yang jumlah penduduknya lebih besar dari kota X tersebut), DAN\n",
    "- ada kota di Amerika Serikat (uscity) dengan nama kota yang sama dengan kota-kota pilihan\n",
    "\n",
    "Keluarkan hanya nama kota-kota yang memenuhi 2 syarat di atas saja, tidak usah kolom-kolom lain."
   ]
  },
  {
   "cell_type": "code",
   "execution_count": 4,
   "id": "299e980e",
   "metadata": {},
   "outputs": [
    {
     "data": {
      "text/html": [
       "<div>\n",
       "<style scoped>\n",
       "    .dataframe tbody tr th:only-of-type {\n",
       "        vertical-align: middle;\n",
       "    }\n",
       "\n",
       "    .dataframe tbody tr th {\n",
       "        vertical-align: top;\n",
       "    }\n",
       "\n",
       "    .dataframe thead th {\n",
       "        text-align: right;\n",
       "    }\n",
       "</style>\n",
       "<table border=\"1\" class=\"dataframe\">\n",
       "  <thead>\n",
       "    <tr style=\"text-align: right;\">\n",
       "      <th></th>\n",
       "      <th>city</th>\n",
       "    </tr>\n",
       "  </thead>\n",
       "  <tbody>\n",
       "    <tr>\n",
       "      <th>0</th>\n",
       "      <td>Delhi</td>\n",
       "    </tr>\n",
       "  </tbody>\n",
       "</table>\n",
       "</div>"
      ],
      "text/plain": [
       "    city\n",
       "0  Delhi"
      ]
     },
     "execution_count": 4,
     "metadata": {},
     "output_type": "execute_result"
    }
   ],
   "source": [
    "### Jawaban Query Soal 1\n",
    "query1 = \"\"\"\n",
    "WITH uscited as\n",
    "(SELECT DISTINCT city FROM uscity WHERE city IN (SELECT city FROM worldcity\n",
    "WHERE population > (SELECT MAX(population) FROM worldcity WHERE country = 'Philippines')))\n",
    "\n",
    "SELECT DISTINCT city\n",
    "FROM worldcity\n",
    "WHERE population > (SELECT MAX(population) FROM worldcity WHERE country = 'Philippines')\n",
    "AND city = (SELECT city FROM uscited)\n",
    "\"\"\"\n",
    "sql_run(query1)"
   ]
  },
  {
   "cell_type": "markdown",
   "id": "34307c8a",
   "metadata": {},
   "source": [
    "### Question 2"
   ]
  },
  {
   "cell_type": "markdown",
   "id": "8a7b3b3d",
   "metadata": {},
   "source": [
    "Temukan kota-kota di Amerika Serikat (uscity) yang memenuhi semua kondisi berikut:\n",
    "- memiliki nama 'city' yang tidak sama dengan 'state_name', dan juga\n",
    "- memiliki populasi di atas rata-rata populasi kota-kota di 'county_name' Miami-Dade, dan juga\n",
    "- terdiri dari dua atau lebih kata (contoh: Los Angeles, New York)\n",
    "\n",
    "Output yang diharapkan hanya kolom 'city' saja, tidak usah kolom yang lain\n",
    "\n",
    "Lakukan hanya 1x query saja, jangan melakukan lebih dari 1 query"
   ]
  },
  {
   "cell_type": "code",
   "execution_count": 5,
   "id": "6fd2204e",
   "metadata": {},
   "outputs": [
    {
     "data": {
      "text/html": [
       "<div>\n",
       "<style scoped>\n",
       "    .dataframe tbody tr th:only-of-type {\n",
       "        vertical-align: middle;\n",
       "    }\n",
       "\n",
       "    .dataframe tbody tr th {\n",
       "        vertical-align: top;\n",
       "    }\n",
       "\n",
       "    .dataframe thead th {\n",
       "        text-align: right;\n",
       "    }\n",
       "</style>\n",
       "<table border=\"1\" class=\"dataframe\">\n",
       "  <thead>\n",
       "    <tr style=\"text-align: right;\">\n",
       "      <th></th>\n",
       "      <th>city</th>\n",
       "    </tr>\n",
       "  </thead>\n",
       "  <tbody>\n",
       "    <tr>\n",
       "      <th>0</th>\n",
       "      <td>Los Angeles</td>\n",
       "    </tr>\n",
       "    <tr>\n",
       "      <th>1</th>\n",
       "      <td>San Francisco</td>\n",
       "    </tr>\n",
       "    <tr>\n",
       "      <th>2</th>\n",
       "      <td>San Diego</td>\n",
       "    </tr>\n",
       "    <tr>\n",
       "      <th>3</th>\n",
       "      <td>Las Vegas</td>\n",
       "    </tr>\n",
       "    <tr>\n",
       "      <th>4</th>\n",
       "      <td>San Antonio</td>\n",
       "    </tr>\n",
       "    <tr>\n",
       "      <th>...</th>\n",
       "      <td>...</td>\n",
       "    </tr>\n",
       "    <tr>\n",
       "      <th>84</th>\n",
       "      <td>South Lyon</td>\n",
       "    </tr>\n",
       "    <tr>\n",
       "      <th>85</th>\n",
       "      <td>Lehigh Acres</td>\n",
       "    </tr>\n",
       "    <tr>\n",
       "      <th>86</th>\n",
       "      <td>East Los Angeles</td>\n",
       "    </tr>\n",
       "    <tr>\n",
       "      <th>87</th>\n",
       "      <td>St. George</td>\n",
       "    </tr>\n",
       "    <tr>\n",
       "      <th>88</th>\n",
       "      <td>Yuba City</td>\n",
       "    </tr>\n",
       "  </tbody>\n",
       "</table>\n",
       "<p>89 rows × 1 columns</p>\n",
       "</div>"
      ],
      "text/plain": [
       "                city\n",
       "0        Los Angeles\n",
       "1      San Francisco\n",
       "2          San Diego\n",
       "3          Las Vegas\n",
       "4        San Antonio\n",
       "..               ...\n",
       "84        South Lyon\n",
       "85      Lehigh Acres\n",
       "86  East Los Angeles\n",
       "87        St. George\n",
       "88         Yuba City\n",
       "\n",
       "[89 rows x 1 columns]"
      ]
     },
     "execution_count": 5,
     "metadata": {},
     "output_type": "execute_result"
    }
   ],
   "source": [
    "### Jawaban Query Soal 2\n",
    "query2 = \"\"\"\n",
    "SELECT DISTINCT city \n",
    "FROM uscity\n",
    "WHERE city <> state_name \n",
    "AND population > (SELECT AVG(population) FROM uscity WHERE county_name = 'Miami-Dade')\n",
    "AND city LIKE '% %'\n",
    "\"\"\"\n",
    "sql_run(query2)"
   ]
  },
  {
   "cell_type": "code",
   "execution_count": null,
   "id": "2f41dcd0",
   "metadata": {},
   "outputs": [],
   "source": []
  }
 ],
 "metadata": {
  "kernelspec": {
   "display_name": "Python 3",
   "language": "python",
   "name": "python3"
  },
  "language_info": {
   "codemirror_mode": {
    "name": "ipython",
    "version": 3
   },
   "file_extension": ".py",
   "mimetype": "text/x-python",
   "name": "python",
   "nbconvert_exporter": "python",
   "pygments_lexer": "ipython3",
   "version": "3.8.8"
  }
 },
 "nbformat": 4,
 "nbformat_minor": 5
}
