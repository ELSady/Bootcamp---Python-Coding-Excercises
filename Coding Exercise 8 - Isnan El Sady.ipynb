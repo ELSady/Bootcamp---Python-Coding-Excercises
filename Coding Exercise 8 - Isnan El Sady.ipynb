{
 "cells": [
  {
   "cell_type": "markdown",
   "id": "e81ff611",
   "metadata": {},
   "source": [
    "## Coding Exercise 8 "
   ]
  },
  {
   "cell_type": "markdown",
   "id": "b8c630ae",
   "metadata": {},
   "source": [
    "### Question 1 Only one Extra Curiculer Activity"
   ]
  },
  {
   "cell_type": "code",
   "execution_count": 13,
   "id": "9b71c5c1",
   "metadata": {},
   "outputs": [
    {
     "name": "stdout",
     "output_type": "stream",
     "text": [
      "'Jadon' only Joins 1 Extracuriculer\n",
      "'Rone' only Joins 1 Extracuriculer\n",
      "'Arthur' only Joins 1 Extracuriculer\n"
     ]
    }
   ],
   "source": [
    "# Importing Necessary Libraries\n",
    "from collections import Counter\n",
    "from itertools import chain\n",
    "\n",
    "# Defininig Lists\n",
    "Science = ['Alex', 'Freddy', 'Rone', 'Jadon' ,'James']\n",
    "Sports = ['Arthur', 'Mitchel', 'Terry', 'James', 'Eric']\n",
    "History = ['Mitchel', 'Alex','Eric', 'Terry','Freddy']\n",
    "Extras = [Science,Sports,History]\n",
    "\n",
    "# Defining Function\n",
    "def one_activity_finder(Extras):\n",
    "    no_of_lists_per_name = Counter(chain.from_iterable(map(set, Extras)))\n",
    "    for student, no_of_lists in no_of_lists_per_name.most_common():\n",
    "        if no_of_lists == 1:\n",
    "            print(f\"'{student}' only Joins 1 Extracuriculer\")\n",
    "\n",
    "# Function Execution\n",
    "one_activity_finder(Extras)"
   ]
  },
  {
   "cell_type": "markdown",
   "id": "5acfd6f6",
   "metadata": {},
   "source": [
    "### Question 2 Three Most Common Letters"
   ]
  },
  {
   "cell_type": "code",
   "execution_count": null,
   "id": "e1c6e665",
   "metadata": {},
   "outputs": [],
   "source": []
  }
 ],
 "metadata": {
  "kernelspec": {
   "display_name": "Python 3",
   "language": "python",
   "name": "python3"
  },
  "language_info": {
   "codemirror_mode": {
    "name": "ipython",
    "version": 3
   },
   "file_extension": ".py",
   "mimetype": "text/x-python",
   "name": "python",
   "nbconvert_exporter": "python",
   "pygments_lexer": "ipython3",
   "version": "3.8.8"
  }
 },
 "nbformat": 4,
 "nbformat_minor": 5
}
