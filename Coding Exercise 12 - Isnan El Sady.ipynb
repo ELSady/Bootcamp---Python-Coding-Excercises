{
 "cells": [
  {
   "cell_type": "markdown",
   "id": "beaf1eaa",
   "metadata": {},
   "source": [
    "### Importing Libraries"
   ]
  },
  {
   "cell_type": "code",
   "execution_count": 1,
   "id": "adacf28c",
   "metadata": {},
   "outputs": [],
   "source": [
    "import pandas as pd\n",
    "import pandasql\n",
    "\n",
    "from pandasql import sqldf \n",
    "sql_run = lambda q: sqldf(q, globals())"
   ]
  },
  {
   "cell_type": "markdown",
   "id": "2b27a119",
   "metadata": {},
   "source": [
    "### Question 1 : Find the 3rd Highest Salary"
   ]
  },
  {
   "cell_type": "code",
   "execution_count": 2,
   "id": "9549f6e7",
   "metadata": {},
   "outputs": [
    {
     "data": {
      "text/html": [
       "<div>\n",
       "<style scoped>\n",
       "    .dataframe tbody tr th:only-of-type {\n",
       "        vertical-align: middle;\n",
       "    }\n",
       "\n",
       "    .dataframe tbody tr th {\n",
       "        vertical-align: top;\n",
       "    }\n",
       "\n",
       "    .dataframe thead th {\n",
       "        text-align: right;\n",
       "    }\n",
       "</style>\n",
       "<table border=\"1\" class=\"dataframe\">\n",
       "  <thead>\n",
       "    <tr style=\"text-align: right;\">\n",
       "      <th></th>\n",
       "      <th>employee</th>\n",
       "      <th>salary</th>\n",
       "    </tr>\n",
       "  </thead>\n",
       "  <tbody>\n",
       "    <tr>\n",
       "      <th>0</th>\n",
       "      <td>Alice</td>\n",
       "      <td>10000</td>\n",
       "    </tr>\n",
       "    <tr>\n",
       "      <th>4</th>\n",
       "      <td>Emma</td>\n",
       "      <td>10000</td>\n",
       "    </tr>\n",
       "    <tr>\n",
       "      <th>3</th>\n",
       "      <td>Dorothy</td>\n",
       "      <td>9900</td>\n",
       "    </tr>\n",
       "    <tr>\n",
       "      <th>2</th>\n",
       "      <td>Charles</td>\n",
       "      <td>9800</td>\n",
       "    </tr>\n",
       "    <tr>\n",
       "      <th>1</th>\n",
       "      <td>Benn</td>\n",
       "      <td>9500</td>\n",
       "    </tr>\n",
       "    <tr>\n",
       "      <th>5</th>\n",
       "      <td>Franklin</td>\n",
       "      <td>9000</td>\n",
       "    </tr>\n",
       "  </tbody>\n",
       "</table>\n",
       "</div>"
      ],
      "text/plain": [
       "   employee  salary\n",
       "0     Alice   10000\n",
       "4      Emma   10000\n",
       "3   Dorothy    9900\n",
       "2   Charles    9800\n",
       "1      Benn    9500\n",
       "5  Franklin    9000"
      ]
     },
     "execution_count": 2,
     "metadata": {},
     "output_type": "execute_result"
    }
   ],
   "source": [
    "# Defining dataframe\n",
    "employee_table = pd.DataFrame({\n",
    "    'employee':['Alice', 'Benn', 'Charles', 'Dorothy', 'Emma', 'Franklin'],\n",
    "    'salary':[10000,9500,9800,9900,10000,9000]\n",
    "})\n",
    "employee_table.sort_values(by='salary', ascending=False)"
   ]
  },
  {
   "cell_type": "code",
   "execution_count": 3,
   "id": "cb2e615a",
   "metadata": {},
   "outputs": [
    {
     "data": {
      "text/html": [
       "<div>\n",
       "<style scoped>\n",
       "    .dataframe tbody tr th:only-of-type {\n",
       "        vertical-align: middle;\n",
       "    }\n",
       "\n",
       "    .dataframe tbody tr th {\n",
       "        vertical-align: top;\n",
       "    }\n",
       "\n",
       "    .dataframe thead th {\n",
       "        text-align: right;\n",
       "    }\n",
       "</style>\n",
       "<table border=\"1\" class=\"dataframe\">\n",
       "  <thead>\n",
       "    <tr style=\"text-align: right;\">\n",
       "      <th></th>\n",
       "      <th>salary</th>\n",
       "    </tr>\n",
       "  </thead>\n",
       "  <tbody>\n",
       "    <tr>\n",
       "      <th>0</th>\n",
       "      <td>9900</td>\n",
       "    </tr>\n",
       "  </tbody>\n",
       "</table>\n",
       "</div>"
      ],
      "text/plain": [
       "   salary\n",
       "0    9900"
      ]
     },
     "execution_count": 3,
     "metadata": {},
     "output_type": "execute_result"
    }
   ],
   "source": [
    "# SQL query 1\n",
    "query1 = \"\"\"\n",
    "WITH RowNumber as\n",
    "(SELECT DISTINCT salary, employee,\n",
    "ROW_NUMBER() OVER(ORDER BY salary desc) as RN\n",
    "FROM employee_table)\n",
    "\n",
    "SELECT DISTINCT salary\n",
    "FROM employee_table\n",
    "WHERE salary IN (SELECT salary FROM RowNumber WHERE RN = 3 )\n",
    "\"\"\"\n",
    "\n",
    "sql_run(query1)"
   ]
  },
  {
   "cell_type": "markdown",
   "id": "00fb4d50",
   "metadata": {},
   "source": [
    "### Question 2 : Find Items Bought"
   ]
  },
  {
   "cell_type": "code",
   "execution_count": 4,
   "id": "a2154740",
   "metadata": {},
   "outputs": [
    {
     "data": {
      "text/html": [
       "<div>\n",
       "<style scoped>\n",
       "    .dataframe tbody tr th:only-of-type {\n",
       "        vertical-align: middle;\n",
       "    }\n",
       "\n",
       "    .dataframe tbody tr th {\n",
       "        vertical-align: top;\n",
       "    }\n",
       "\n",
       "    .dataframe thead th {\n",
       "        text-align: right;\n",
       "    }\n",
       "</style>\n",
       "<table border=\"1\" class=\"dataframe\">\n",
       "  <thead>\n",
       "    <tr style=\"text-align: right;\">\n",
       "      <th></th>\n",
       "      <th>buyer</th>\n",
       "      <th>item</th>\n",
       "    </tr>\n",
       "  </thead>\n",
       "  <tbody>\n",
       "    <tr>\n",
       "      <th>0</th>\n",
       "      <td>Alif</td>\n",
       "      <td>Asus</td>\n",
       "    </tr>\n",
       "    <tr>\n",
       "      <th>1</th>\n",
       "      <td>Bogie</td>\n",
       "      <td>Lenovo</td>\n",
       "    </tr>\n",
       "    <tr>\n",
       "      <th>2</th>\n",
       "      <td>Cahya</td>\n",
       "      <td>Lenovo</td>\n",
       "    </tr>\n",
       "    <tr>\n",
       "      <th>3</th>\n",
       "      <td>Dio</td>\n",
       "      <td>Acer</td>\n",
       "    </tr>\n",
       "    <tr>\n",
       "      <th>4</th>\n",
       "      <td>Elisa</td>\n",
       "      <td>Acer</td>\n",
       "    </tr>\n",
       "    <tr>\n",
       "      <th>5</th>\n",
       "      <td>Faiz</td>\n",
       "      <td>Acer</td>\n",
       "    </tr>\n",
       "    <tr>\n",
       "      <th>6</th>\n",
       "      <td>Galang</td>\n",
       "      <td>Lenovo</td>\n",
       "    </tr>\n",
       "    <tr>\n",
       "      <th>7</th>\n",
       "      <td>Husain</td>\n",
       "      <td>Asus</td>\n",
       "    </tr>\n",
       "    <tr>\n",
       "      <th>8</th>\n",
       "      <td>Indah</td>\n",
       "      <td>Asus</td>\n",
       "    </tr>\n",
       "    <tr>\n",
       "      <th>9</th>\n",
       "      <td>Jayadi</td>\n",
       "      <td>Asus</td>\n",
       "    </tr>\n",
       "    <tr>\n",
       "      <th>10</th>\n",
       "      <td>Khoirul</td>\n",
       "      <td>Dell</td>\n",
       "    </tr>\n",
       "  </tbody>\n",
       "</table>\n",
       "</div>"
      ],
      "text/plain": [
       "      buyer    item\n",
       "0      Alif    Asus\n",
       "1     Bogie  Lenovo\n",
       "2     Cahya  Lenovo\n",
       "3       Dio    Acer\n",
       "4     Elisa    Acer\n",
       "5      Faiz    Acer\n",
       "6    Galang  Lenovo\n",
       "7    Husain    Asus\n",
       "8     Indah    Asus\n",
       "9    Jayadi    Asus\n",
       "10  Khoirul    Dell"
      ]
     },
     "execution_count": 4,
     "metadata": {},
     "output_type": "execute_result"
    }
   ],
   "source": [
    "# Defining Dataframe\n",
    "item_bought = pd.DataFrame({\n",
    "    'buyer':['Alif', 'Bogie', 'Cahya', 'Dio', 'Elisa', 'Faiz','Galang','Husain','Indah','Jayadi','Khoirul'],\n",
    "    'item':['Asus', 'Lenovo', 'Lenovo', 'Acer', 'Acer', 'Acer','Lenovo','Asus','Asus','Asus','Dell']\n",
    "})\n",
    "item_bought"
   ]
  },
  {
   "cell_type": "code",
   "execution_count": 5,
   "id": "76d1397c",
   "metadata": {},
   "outputs": [
    {
     "data": {
      "text/html": [
       "<div>\n",
       "<style scoped>\n",
       "    .dataframe tbody tr th:only-of-type {\n",
       "        vertical-align: middle;\n",
       "    }\n",
       "\n",
       "    .dataframe tbody tr th {\n",
       "        vertical-align: top;\n",
       "    }\n",
       "\n",
       "    .dataframe thead th {\n",
       "        text-align: right;\n",
       "    }\n",
       "</style>\n",
       "<table border=\"1\" class=\"dataframe\">\n",
       "  <thead>\n",
       "    <tr style=\"text-align: right;\">\n",
       "      <th></th>\n",
       "      <th>item</th>\n",
       "    </tr>\n",
       "  </thead>\n",
       "  <tbody>\n",
       "    <tr>\n",
       "      <th>0</th>\n",
       "      <td>Acer</td>\n",
       "    </tr>\n",
       "    <tr>\n",
       "      <th>1</th>\n",
       "      <td>Lenovo</td>\n",
       "    </tr>\n",
       "  </tbody>\n",
       "</table>\n",
       "</div>"
      ],
      "text/plain": [
       "     item\n",
       "0    Acer\n",
       "1  Lenovo"
      ]
     },
     "execution_count": 5,
     "metadata": {},
     "output_type": "execute_result"
    }
   ],
   "source": [
    "# SQL query 2\n",
    "query2 = \"\"\"\n",
    "WITH Sorted1 as\n",
    "(SELECT item, COUNT (*) as Amount\n",
    "FROM item_bought\n",
    "GROUP BY 1)\n",
    "\n",
    "SELECT DISTINCT item\n",
    "FROM item_bought\n",
    "WHERE item IN\n",
    "(SELECT item FROM Sorted1 WHERE Amount < (SELECT MAX(Amount) FROM Sorted1))\n",
    "AND item IN \n",
    "(SELECT item FROM Sorted1 WHERE Amount > (SELECT MIN(Amount) FROM Sorted1))\n",
    "ORDER BY item\n",
    "\"\"\"\n",
    "\n",
    "sql_run(query2)"
   ]
  },
  {
   "cell_type": "code",
   "execution_count": null,
   "id": "fc4efbb2",
   "metadata": {},
   "outputs": [],
   "source": [
    "with minimum as \n",
    "(select subject, min(score)\n",
    "from students \n",
    "left join exam_result using (student_id)\n",
    "group by 1)\n",
    "\n",
    "select student_id,studnet_name\n",
    "from students\n",
    "where score <> (select min(score) from minimum where subject in ('Sports','Coking')\n",
    "and score not in (select max(score from maximum where subject in ('Sports','Cooking')))"
   ]
  }
 ],
 "metadata": {
  "kernelspec": {
   "display_name": "Python 3",
   "language": "python",
   "name": "python3"
  },
  "language_info": {
   "codemirror_mode": {
    "name": "ipython",
    "version": 3
   },
   "file_extension": ".py",
   "mimetype": "text/x-python",
   "name": "python",
   "nbconvert_exporter": "python",
   "pygments_lexer": "ipython3",
   "version": "3.8.8"
  }
 },
 "nbformat": 4,
 "nbformat_minor": 5
}
