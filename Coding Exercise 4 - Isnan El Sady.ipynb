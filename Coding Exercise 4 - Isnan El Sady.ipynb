{
 "cells": [
  {
   "cell_type": "markdown",
   "id": "492d63dd",
   "metadata": {},
   "source": [
    "## Soal 1\n",
    "## Shifting Member of an Array\n"
   ]
  },
  {
   "cell_type": "code",
   "execution_count": null,
   "id": "0a603519",
   "metadata": {},
   "outputs": [],
   "source": [
    "# Membuat array yang kosong\n",
    "array = []\n",
    " \n",
    "# Input jumlah elemen yang hendak di masukkan\n",
    "n = int(input(\"Masukkan banyaknya elemen array : \"))\n",
    " \n",
    "# Iterasi sampai n range\n",
    "for i in range(0, n):\n",
    "    ele = input()\n",
    " \n",
    "    array.append(ele) # menambahkan elemen\n",
    "     \n",
    "print(array)"
   ]
  },
  {
   "cell_type": "code",
   "execution_count": null,
   "id": "1407c688",
   "metadata": {},
   "outputs": [],
   "source": [
    "# Menggunakan library Numpy dgn function\n",
    "# \"np.roll\" untuk memutar array nya\n",
    "import numpy as np\n",
    "\n",
    "# Function Shifting array\n",
    "def shift(array,a):\n",
    "    new_array = np.roll(array,a)\n",
    "    shifted_array = list(new_array)\n",
    "    print(shifted_array)\n",
    "\n",
    "shift(array,3)"
   ]
  },
  {
   "cell_type": "markdown",
   "id": "c31f2275",
   "metadata": {},
   "source": [
    "## Soal 2\n",
    "## Segitiga Paskal"
   ]
  },
  {
   "cell_type": "code",
   "execution_count": 1,
   "id": "b46a1ae3",
   "metadata": {},
   "outputs": [
    {
     "data": {
      "text/plain": [
       "[[1], [1, 1], [1, 2, 1], [1, 3, 3, 1], [1, 4, 6, 4, 1]]"
      ]
     },
     "execution_count": 1,
     "metadata": {},
     "output_type": "execute_result"
    }
   ],
   "source": [
    "# Function Segitiga Pascal\n",
    "def pascals_triangle(m):\n",
    "    results = [] \n",
    "    for _ in range(m): \n",
    "        row = [1] # Nilai awal pada segitiga pascal adalah 1\n",
    "        if results: \n",
    "            last_row = results[-1] \n",
    "            row.extend([sum(pair) for pair in zip(last_row, last_row[1:])])\n",
    "            row.append(1)\n",
    "        results.append(row) \n",
    "    return results\n",
    "\n",
    "pascals_triangle(5)"
   ]
  },
  {
   "cell_type": "markdown",
   "id": "42aa585a",
   "metadata": {},
   "source": [
    "## Soal 3\n",
    "## Maximum Distance"
   ]
  },
  {
   "cell_type": "code",
   "execution_count": null,
   "id": "8420af11",
   "metadata": {},
   "outputs": [],
   "source": [
    "from math import sqrt\n",
    " \n",
    "# Function untuk mencari nilai\n",
    "# dari 2 koordinat\n",
    "def dist(p1, p2):\n",
    "     \n",
    "    x0 = p1[0] - p2[0]\n",
    "    y0 = p1[1] - p2[1]\n",
    "    return x0 * x0 + y0 * y0\n",
    " \n",
    "# Function untuk mencari distace\n",
    "# maksimum dari suatu koordinat\n",
    "def maxDist(p):\n",
    " \n",
    "    o = len(p)\n",
    "    maxm = 0\n",
    " \n",
    "    # Iterasi semua kemugkinan pasangan koordinat\n",
    "    for i in range(n):\n",
    "        for j in range(i + 1, o):\n",
    "             \n",
    "            # Update maxm\n",
    "            maxm = max(maxm, dist(p[i], p[j]))\n",
    " \n",
    "    return sqrt(maxm)\n",
    "     \n",
    "# Driver Code\n",
    "if __name__ == '__main__':\n",
    "     \n",
    "    # Jumlah Koordinat\n",
    "    o = 3\n",
    " \n",
    "    p = []\n",
    "     \n",
    "    # Nilai elemen tiap koordinat\n",
    "    p.append([2, -2])\n",
    "    p.append([10, -10])\n",
    "    p.append([-5, 5])\n",
    " \n",
    "    # Pemanggilan Function\n",
    "    print(maxDist(p))"
   ]
  }
 ],
 "metadata": {
  "kernelspec": {
   "display_name": "Python 3",
   "language": "python",
   "name": "python3"
  },
  "language_info": {
   "codemirror_mode": {
    "name": "ipython",
    "version": 3
   },
   "file_extension": ".py",
   "mimetype": "text/x-python",
   "name": "python",
   "nbconvert_exporter": "python",
   "pygments_lexer": "ipython3",
   "version": "3.8.8"
  }
 },
 "nbformat": 4,
 "nbformat_minor": 5
}
