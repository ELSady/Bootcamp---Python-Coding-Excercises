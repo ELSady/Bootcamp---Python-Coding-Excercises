{
 "cells": [
  {
   "cell_type": "markdown",
   "id": "e2bce1b3",
   "metadata": {},
   "source": [
    "## Soal 1 \"Greates Possible Combination\""
   ]
  },
  {
   "cell_type": "code",
   "execution_count": 1,
   "id": "7a67ee8e",
   "metadata": {},
   "outputs": [
    {
     "name": "stdout",
     "output_type": "stream",
     "text": [
      "x1: 3 x2: 4 x3: 12\n",
      "Modulonya: 17\n",
      "x1: 3 x2: 4 x3: 8\n",
      "Modulonya: 1\n",
      "x1: 3 x2: 4 x3: 9\n",
      "Modulonya: 5\n",
      "x1: 3 x2: 2 x3: 12\n",
      "Modulonya: 13\n",
      "x1: 3 x2: 2 x3: 8\n",
      "Modulonya: 5\n",
      "x1: 3 x2: 2 x3: 9\n",
      "Modulonya: 7\n",
      "x1: 10 x2: 4 x3: 12\n",
      "Modulonya: 8\n",
      "x1: 10 x2: 4 x3: 8\n",
      "Modulonya: 12\n",
      "x1: 10 x2: 4 x3: 9\n",
      "Modulonya: 16\n",
      "x1: 10 x2: 2 x3: 12\n",
      "Modulonya: 4\n",
      "x1: 10 x2: 2 x3: 8\n",
      "Modulonya: 16\n",
      "x1: 10 x2: 2 x3: 9\n",
      "Modulonya: 18\n",
      "x1: 7 x2: 4 x3: 12\n",
      "Modulonya: 17\n",
      "x1: 7 x2: 4 x3: 8\n",
      "Modulonya: 1\n",
      "x1: 7 x2: 4 x3: 9\n",
      "Modulonya: 5\n",
      "x1: 7 x2: 2 x3: 12\n",
      "Modulonya: 13\n",
      "x1: 7 x2: 2 x3: 8\n",
      "Modulonya: 5\n",
      "x1: 7 x2: 2 x3: 9\n",
      "Modulonya: 7\n",
      "Modulo terbesar adalah: 18\n"
     ]
    }
   ],
   "source": [
    "# Import library\n",
    "import itertools \n",
    "import numpy as np\n",
    "\n",
    "# Input Array \n",
    "arr1 = [3,10,7]\n",
    "arr2= [4,2]\n",
    "arr3 = [12,8,9]\n",
    "\n",
    "# Definisi Function\n",
    "def maximum(arr1,arr2,arr3):\n",
    "    list1 = list(itertools.product(arr1,arr2,arr3))\n",
    "    list2 = []\n",
    "    for i in list1:\n",
    "        print('x1:',i[0],'x2:',i[1],'x3:',i[2])\n",
    "        Moduled = (i[0] * i[0] + i[1] * i[2])%20\n",
    "        list2.append(Moduled)\n",
    "        print('Modulonya:', Moduled)\n",
    "    print('Modulo terbesar adalah:', max(list2)) \n",
    "    \n",
    "# Eksekusi Function            \n",
    "maximum(arr1,arr2,arr3)"
   ]
  },
  {
   "cell_type": "code",
   "execution_count": null,
   "id": "734ffbf6",
   "metadata": {},
   "outputs": [],
   "source": []
  }
 ],
 "metadata": {
  "kernelspec": {
   "display_name": "Python 3",
   "language": "python",
   "name": "python3"
  },
  "language_info": {
   "codemirror_mode": {
    "name": "ipython",
    "version": 3
   },
   "file_extension": ".py",
   "mimetype": "text/x-python",
   "name": "python",
   "nbconvert_exporter": "python",
   "pygments_lexer": "ipython3",
   "version": "3.8.8"
  }
 },
 "nbformat": 4,
 "nbformat_minor": 5
}
