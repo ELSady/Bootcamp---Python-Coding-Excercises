{
 "cells": [
  {
   "cell_type": "markdown",
   "id": "5c2d24dc",
   "metadata": {},
   "source": [
    "## Coding Exercise 7 - Parsing Date\n",
    "### Question 1 - How much time has passed?"
   ]
  },
  {
   "cell_type": "code",
   "execution_count": null,
   "id": "180ee3fc",
   "metadata": {},
   "outputs": [],
   "source": [
    "# Importing Library\n",
    "from datetime import datetime\n",
    "\n",
    "# Inputing Date and Time\n",
    "date_1 = 'Sunday 25 Apr 2021 17:30:00 +0700'\n",
    "date_2 = 'Thursday 30 Dec 2021 17:30:00 +0700'\n",
    "\n",
    "# Defining Function \n",
    "def duration_count(date_1,date_2):\n",
    "    sprtdt1 = datetime.strptime(date_1, '%A %d %b %Y %H:%M:%S %z')\n",
    "    sprtdt2 = datetime.strptime(date_2, '%A %d %b %Y %H:%M:%S %z')\n",
    "    print('First date:', sprtdt1)\n",
    "    print('Second date:', sprtdt2)\n",
    "    delta = (sprtdt2 - sprtdt1)\n",
    "    deltascds = (sprtdt2 - sprtdt1).total_seconds()\n",
    "    print('Difference between dates is', delta.days, 'days')\n",
    "    print('or', deltascds,'seconds')\n",
    "\n",
    "# Fuction Execution\n",
    "duration_count(date_1,date_2)"
   ]
  },
  {
   "cell_type": "markdown",
   "id": "113de06b",
   "metadata": {},
   "source": [
    "### Question 2 What Day is it?"
   ]
  },
  {
   "cell_type": "code",
   "execution_count": null,
   "id": "2b1727cc",
   "metadata": {},
   "outputs": [],
   "source": [
    "# Importing Library\n",
    "import datetime\n",
    "from datetime import date\n",
    "import calendar\n",
    "\n",
    "# Defining Function \n",
    "def findDay(date):\n",
    "    day, month, year = (int(i) for i in date.split(' '))   \n",
    "    born = datetime.date(year, month, day)\n",
    "    return born.strftime(\"%A\")\n",
    " \n",
    "# Execute Function\n",
    "dt1 = '25 04 2021'\n",
    "dt2 = '30 12 2021'\n",
    "print('Date', dt1, 'is', findDay(dt1))\n",
    "print('Date', dt2, 'is', findDay(dt2))"
   ]
  }
 ],
 "metadata": {
  "kernelspec": {
   "display_name": "Python 3",
   "language": "python",
   "name": "python3"
  },
  "language_info": {
   "codemirror_mode": {
    "name": "ipython",
    "version": 3
   },
   "file_extension": ".py",
   "mimetype": "text/x-python",
   "name": "python",
   "nbconvert_exporter": "python",
   "pygments_lexer": "ipython3",
   "version": "3.8.8"
  }
 },
 "nbformat": 4,
 "nbformat_minor": 5
}
