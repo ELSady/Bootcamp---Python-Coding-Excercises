{
 "cells": [
  {
   "cell_type": "markdown",
   "id": "0cfca37a",
   "metadata": {},
   "source": [
    "### Numpy Question 1"
   ]
  },
  {
   "cell_type": "code",
   "execution_count": 1,
   "id": "6ab31967",
   "metadata": {},
   "outputs": [
    {
     "name": "stdout",
     "output_type": "stream",
     "text": [
      "Max Values Index for each array\n",
      "[2] [3] [4]\n"
     ]
    }
   ],
   "source": [
    "# Import library numpy\n",
    "import numpy as np\n",
    "\n",
    "# Array Input\n",
    "array1 = np.array([1,6,9,5,8])\n",
    "array2 = np.array([7,5,9,10,3,])\n",
    "array3 = np.array([6,3,1,9,10,8])\n",
    "\n",
    "# Define Function \n",
    "def display_max(a,b,c):\n",
    "    maxElement1 = np.amax(a)\n",
    "    maxElement2 = np.amax(b)\n",
    "    maxElement3 = np.amax(c)\n",
    "    \n",
    "    result1 = np.where(a == np.amax(a))\n",
    "    result2 = np.where(b == np.amax(b))\n",
    "    result3 = np.where(c == np.amax(c))\n",
    "    \n",
    "    print('Max Values Index for each array')\n",
    "    print(result1[0],result2[0],result3[0])\n",
    "\n",
    "# Executing Function\n",
    "display_max(array1,array2,array3)\n",
    "    "
   ]
  },
  {
   "cell_type": "markdown",
   "id": "e0c87e0f",
   "metadata": {},
   "source": [
    "### Numpy Question 3"
   ]
  },
  {
   "cell_type": "code",
   "execution_count": 5,
   "id": "2b634bfc",
   "metadata": {},
   "outputs": [
    {
     "name": "stdout",
     "output_type": "stream",
     "text": [
      "One Hot Encoding:\n",
      "[[1. 0. 0. 0. 0. 0. 0.]\n",
      " [0. 1. 0. 0. 0. 0. 0.]\n",
      " [0. 0. 1. 0. 0. 0. 0.]\n",
      " [0. 0. 0. 1. 0. 0. 0.]\n",
      " [0. 0. 0. 0. 1. 0. 0.]\n",
      " [0. 0. 0. 0. 0. 1. 0.]\n",
      " [0. 0. 0. 0. 0. 0. 1.]]\n"
     ]
    }
   ],
   "source": [
    "# Input Array\n",
    "values = [0,1, 2, 3, 4, 5, 6]\n",
    "n_values = np.max(values) + 1\n",
    "np.eye(n_values)[values]\n",
    "\n",
    "# Define Function\n",
    "def grade(d):\n",
    "    n_values = np.max(d) + 1\n",
    "    n_values2 = np.eye(n_values)[d]\n",
    "    print('One Hot Encoding:')\n",
    "    print(n_values2)\n",
    "\n",
    "# Execute Function\n",
    "grade(values)"
   ]
  }
 ],
 "metadata": {
  "kernelspec": {
   "display_name": "Python 3",
   "language": "python",
   "name": "python3"
  },
  "language_info": {
   "codemirror_mode": {
    "name": "ipython",
    "version": 3
   },
   "file_extension": ".py",
   "mimetype": "text/x-python",
   "name": "python",
   "nbconvert_exporter": "python",
   "pygments_lexer": "ipython3",
   "version": "3.8.8"
  }
 },
 "nbformat": 4,
 "nbformat_minor": 5
}
