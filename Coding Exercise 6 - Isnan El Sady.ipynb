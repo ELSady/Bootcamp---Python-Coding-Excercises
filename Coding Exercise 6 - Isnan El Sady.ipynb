{
 "cells": [
  {
   "cell_type": "markdown",
   "id": "4bb34fbb",
   "metadata": {},
   "source": [
    "## Question 1 \n",
    "### Creating a dictionary from 2 lists"
   ]
  },
  {
   "cell_type": "code",
   "execution_count": null,
   "id": "2bf388e5",
   "metadata": {},
   "outputs": [],
   "source": [
    "# Defining the 2 lists\n",
    "keys = ['Hinckley','Rochdale','Woodbridge']\n",
    "values = ['Leicestershire','Manchester','Suffolk']\n",
    "\n",
    "# using zip() to convert lists to dictionary\n",
    "def combine(keys,values):\n",
    "    res = dict(zip(keys,values))\n",
    "    print (\"Dictionary is : \" +  str(res))\n",
    "\n",
    "# Function Execution\n",
    "combine(keys,values)"
   ]
  },
  {
   "cell_type": "markdown",
   "id": "34b90b62",
   "metadata": {},
   "source": [
    "## Question 2\n",
    "### Fibonacci"
   ]
  },
  {
   "cell_type": "code",
   "execution_count": null,
   "id": "1c0580cd",
   "metadata": {},
   "outputs": [],
   "source": [
    "nterms = int(input(\"How many terms? \"))\n",
    "\n",
    "# first two terms\n",
    "n1, n2 = 0, 1\n",
    "count = 0\n",
    "\n",
    "# check if the number of terms is valid\n",
    "if nterms <= 0:\n",
    "   print(\"Please enter a positive integer\")\n",
    "# if there is only one term, return n1\n",
    "elif nterms == 1:\n",
    "   print(\"Fibonacci sequence upto\",nterms,\":\")\n",
    "   print(n1)\n",
    "# generate fibonacci sequence\n",
    "else:\n",
    "   print(\"Fibonacci sequence:\")\n",
    "   while count < nterms:\n",
    "       print(n1)\n",
    "       nth = n1 + n2\n",
    "       # update values\n",
    "       n1 = n2\n",
    "       n2 = nth\n",
    "       count += 1"
   ]
  },
  {
   "cell_type": "code",
   "execution_count": null,
   "id": "82e5d41d",
   "metadata": {},
   "outputs": [],
   "source": []
  }
 ],
 "metadata": {
  "kernelspec": {
   "display_name": "Python 3",
   "language": "python",
   "name": "python3"
  },
  "language_info": {
   "codemirror_mode": {
    "name": "ipython",
    "version": 3
   },
   "file_extension": ".py",
   "mimetype": "text/x-python",
   "name": "python",
   "nbconvert_exporter": "python",
   "pygments_lexer": "ipython3",
   "version": "3.8.8"
  }
 },
 "nbformat": 4,
 "nbformat_minor": 5
}
